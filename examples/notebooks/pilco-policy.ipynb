{
 "cells": [
  {
   "cell_type": "code",
   "execution_count": 1,
   "metadata": {},
   "outputs": [
    {
     "name": "stderr",
     "output_type": "stream",
     "text": [
      "/Users/marpulli/anaconda3/lib/python3.6/site-packages/h5py/__init__.py:36: FutureWarning: Conversion of the second argument of issubdtype from `float` to `np.floating` is deprecated. In future, it will be treated as `np.float64 == np.dtype(float).type`.\n",
      "  from ._conv import register_converters as _register_converters\n"
     ]
    }
   ],
   "source": [
    "import mxnet as mx\n",
    "import numpy as np"
   ]
  },
  {
   "cell_type": "code",
   "execution_count": 2,
   "metadata": {},
   "outputs": [],
   "source": [
    "n_state_dims = 2\n",
    "n_action_dims = 1\n",
    "n_total_input_dims = n_state_dims + n_action_dims"
   ]
  },
  {
   "cell_type": "code",
   "execution_count": 3,
   "metadata": {},
   "outputs": [],
   "source": [
    "X = np.random.rand(100, n_total_input_dims)\n",
    "Y = np.sin(X).sum(axis=1, keepdims=True)"
   ]
  },
  {
   "cell_type": "code",
   "execution_count": 4,
   "metadata": {},
   "outputs": [],
   "source": [
    "from mxfusion.common import config\n",
    "config.DEFAULT_DTYPE = 'float64'"
   ]
  },
  {
   "cell_type": "code",
   "execution_count": 5,
   "metadata": {},
   "outputs": [],
   "source": [
    "from mxfusion import Model, Variable\n",
    "from mxfusion.components.variables import PositiveTransformation\n",
    "from mxfusion.components.distributions.gp.kernels import RBF\n",
    "from mxfusion.modules.gp_modules import GPRegression\n",
    "\n",
    "\n",
    "m = Model()\n",
    "m.N = Variable()\n",
    "m.X = Variable(shape=(m.N, n_total_input_dims))\n",
    "m.noise_var = Variable(shape=(1,), transformation=PositiveTransformation(), initial_value=0.01)\n",
    "m.kernel = RBF(input_dim=n_total_input_dims, variance=1, lengthscale=1)\n",
    "m.Y = GPRegression.define_variable(X=m.X, kernel=m.kernel, noise_var=m.noise_var, shape=(m.N, 1))"
   ]
  },
  {
   "cell_type": "code",
   "execution_count": 6,
   "metadata": {},
   "outputs": [
    {
     "name": "stderr",
     "output_type": "stream",
     "text": [
      "/Users/marpulli/git/MXFusion/mxfusion/inference/inference_parameters.py:74: UserWarning: InferenceParameters has already been initialized.  The existing one will be overwritten.\n",
      "  warnings.warn(\"InferenceParameters has already been initialized.  The existing one will be overwritten.\")\n"
     ]
    },
    {
     "name": "stdout",
     "output_type": "stream",
     "text": [
      "Iteration 11 loss: -134.55876744817573\n",
      "Iteration 21 loss: -159.54421451236675\n",
      "Iteration 31 loss: -183.25152045293447\n",
      "Iteration 41 loss: -206.33879771220866\n",
      "Iteration 51 loss: -228.74200907343942\n",
      "Iteration 61 loss: -250.52657843061718\n",
      "Iteration 71 loss: -271.62110362001914\n",
      "Iteration 81 loss: -291.91925795087195\n",
      "Iteration 91 loss: -311.38247587935564\n",
      "Iteration 100 loss: -328.3415079851717"
     ]
    }
   ],
   "source": [
    "import mxnet as mx\n",
    "from mxfusion.inference import GradBasedInference, MAP\n",
    "\n",
    "infr = GradBasedInference(inference_algorithm=MAP(model=m, observed=[m.X, m.Y]))\n",
    "infr.run(X=mx.nd.array(X, dtype='float64'), Y=mx.nd.array(Y, dtype='float64'), \n",
    "         max_iter=100, learning_rate=0.05, verbose=True)"
   ]
  },
  {
   "cell_type": "code",
   "execution_count": 7,
   "metadata": {},
   "outputs": [],
   "source": [
    "from mxfusion.inference import TransferInference, ModulePredictionAlgorithm\n",
    "infr_pred = TransferInference(ModulePredictionAlgorithm(model=m, observed=[m.X], target_variables=[m.Y]), \n",
    "                              infr_params=infr.params)"
   ]
  },
  {
   "cell_type": "code",
   "execution_count": 17,
   "metadata": {},
   "outputs": [
    {
     "name": "stderr",
     "output_type": "stream",
     "text": [
      "/Users/marpulli/git/MXFusion/mxfusion/inference/inference.py:150: UserWarning: Trying to initialize the inference twice, skipping.\n",
      "  warnings.warn(\"Trying to initialize the inference twice, skipping.\")\n"
     ]
    }
   ],
   "source": [
    "res = infr_pred.run(X=mx.nd.array(X, dtype='float64'))[0]\n",
    "f_mean, f_var = res[0].asnumpy()[0], res[1].asnumpy()[0]"
   ]
  },
  {
   "cell_type": "code",
   "execution_count": 12,
   "metadata": {},
   "outputs": [],
   "source": [
    "linear_policy = mx.gluon.nn.Dense(1, in_units=n_state_dims)\n",
    "linear_policy.collect_params().initialize(mx.init.Normal(sigma=1.))"
   ]
  },
  {
   "cell_type": "code",
   "execution_count": 13,
   "metadata": {},
   "outputs": [],
   "source": [
    "class CostFunction(mx.gluon.HybridBlock):\n",
    "    def hybrid_forward(self, F, x):\n",
    "        return F.abs(x)\n",
    "    \n",
    "cost = CostFunction()"
   ]
  },
  {
   "cell_type": "code",
   "execution_count": 14,
   "metadata": {},
   "outputs": [
    {
     "name": "stderr",
     "output_type": "stream",
     "text": [
      "/Users/marpulli/git/MXFusion/mxfusion/inference/inference.py:150: UserWarning: Trying to initialize the inference twice, skipping.\n",
      "  warnings.warn(\"Trying to initialize the inference twice, skipping.\")\n"
     ]
    }
   ],
   "source": [
    "n_time_steps = 100\n",
    "initial_state = mx.nd.array([[-2, -2]])\n",
    "intiial_action = linear_policy(initial_state)\n",
    "for t in range(n_time_steps):\n",
    "    mx.ndarray\n",
    "    res = infr_pred.run(X=mx.nd.array(X, dtype='float64'))[0]\n",
    "    f_mean, f_var = res[0].asnumpy()[0], res[1].asnumpy()[0]"
   ]
  },
  {
   "cell_type": "code",
   "execution_count": 16,
   "metadata": {},
   "outputs": [
    {
     "ename": "TypeError",
     "evalue": "'GPRegressionMeanVariancePrediction' object is not callable",
     "output_type": "error",
     "traceback": [
      "\u001b[0;31m---------------------------------------------------------------------------\u001b[0m",
      "\u001b[0;31mTypeError\u001b[0m                                 Traceback (most recent call last)",
      "\u001b[0;32m<ipython-input-16-53e5e8ea9ede>\u001b[0m in \u001b[0;36m<module>\u001b[0;34m()\u001b[0m\n\u001b[0;32m----> 1\u001b[0;31m \u001b[0mm\u001b[0m\u001b[0;34m.\u001b[0m\u001b[0mY\u001b[0m\u001b[0;34m.\u001b[0m\u001b[0mfactor\u001b[0m\u001b[0;34m.\u001b[0m\u001b[0mgp_predict\u001b[0m\u001b[0;34m(\u001b[0m\u001b[0mmx\u001b[0m\u001b[0;34m.\u001b[0m\u001b[0mnd\u001b[0m\u001b[0;34m.\u001b[0m\u001b[0marray\u001b[0m\u001b[0;34m(\u001b[0m\u001b[0mX\u001b[0m\u001b[0;34m,\u001b[0m \u001b[0mdtype\u001b[0m\u001b[0;34m=\u001b[0m\u001b[0;34m'float64'\u001b[0m\u001b[0;34m)\u001b[0m\u001b[0;34m)\u001b[0m\u001b[0;34m\u001b[0m\u001b[0m\n\u001b[0m",
      "\u001b[0;31mTypeError\u001b[0m: 'GPRegressionMeanVariancePrediction' object is not callable"
     ]
    }
   ],
   "source": [
    "from mxfusion.inference.model_based_alg import ModelBasedAlgorithm\n",
    "ModelBasedAlgorithm(m, [m.Y], cost, linear_policy, 100, s_0, infr)"
   ]
  },
  {
   "cell_type": "code",
   "execution_count": null,
   "metadata": {},
   "outputs": [],
   "source": []
  }
 ],
 "metadata": {
  "kernelspec": {
   "display_name": "Python 3",
   "language": "python",
   "name": "python3"
  },
  "language_info": {
   "codemirror_mode": {
    "name": "ipython",
    "version": 3
   },
   "file_extension": ".py",
   "mimetype": "text/x-python",
   "name": "python",
   "nbconvert_exporter": "python",
   "pygments_lexer": "ipython3",
   "version": "3.6.3"
  }
 },
 "nbformat": 4,
 "nbformat_minor": 2
}
